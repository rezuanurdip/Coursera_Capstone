{
    "cells": [
        {
            "cell_type": "markdown",
            "metadata": {
                "collapsed": true
            },
            "source": "# The Battle of Neighborhoods"
        },
        {
            "cell_type": "markdown",
            "metadata": {},
            "source": "## Data Section"
        },
        {
            "cell_type": "markdown",
            "metadata": {},
            "source": "Scarborough dataset which was scrapped from wikipedia on Week 3 will be used in this project too. This dataset consisting of latitude and longitude, postal codes.\n"
        },
        {
            "cell_type": "markdown",
            "metadata": {},
            "source": "Link : https://en.wikipedia.org/wiki/List_of_postal_codes_of_Canada:_M"
        },
        {
            "cell_type": "markdown",
            "metadata": {},
            "source": "# Foursquare API"
        },
        {
            "cell_type": "markdown",
            "metadata": {},
            "source": "In order to gain the data about different venues in different neighborhoods of that specific borough we will use \"Foursquare\" locational information. Foursquare is a location data provider with information about all manner of venues and events within an area of interest. Such information includes venue names, locations, menus and even photos. As such, the foursquare location platform will be used as the sole data source since all the stated required information can be obtained through the API. After finding the list of neighborhoods, we then connect to the Foursquare API to gather information about venues inside each and every neighborhood. For each neighborhood, we have chosen the radius to be 100 meter.\n\n"
        },
        {
            "cell_type": "code",
            "execution_count": null,
            "metadata": {},
            "outputs": [],
            "source": ""
        }
    ],
    "metadata": {
        "kernelspec": {
            "display_name": "Python 3.6",
            "language": "python",
            "name": "python3"
        },
        "language_info": {
            "codemirror_mode": {
                "name": "ipython",
                "version": 3
            },
            "file_extension": ".py",
            "mimetype": "text/x-python",
            "name": "python",
            "nbconvert_exporter": "python",
            "pygments_lexer": "ipython3",
            "version": "3.6.9"
        }
    },
    "nbformat": 4,
    "nbformat_minor": 1
}